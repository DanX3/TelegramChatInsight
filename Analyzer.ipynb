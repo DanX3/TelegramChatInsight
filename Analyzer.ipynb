{
 "cells": [
  {
   "cell_type": "code",
   "execution_count": 1,
   "metadata": {},
   "outputs": [],
   "source": [
    "import json\n",
    "from collections import Counter\n",
    "import emoji\n",
    "from wordcloud import WordCloud\n",
    "from os import path, getcwd"
   ]
  },
  {
   "cell_type": "code",
   "execution_count": 2,
   "metadata": {},
   "outputs": [
    {
     "name": "stdout",
     "output_type": "stream",
     "text": [
      "664\n"
     ]
    }
   ],
   "source": [
    "stopwords = frozenset(json.loads(open('stopwords-it.json').read()))\n",
    "punctuation = frozenset(['.', ',', '...', '?', '!', ':', '\"', \"'\"])\n",
    "print(len(stopwords))"
   ]
  },
  {
   "cell_type": "code",
   "execution_count": 3,
   "metadata": {},
   "outputs": [],
   "source": [
    "def isMeaningfulWord(word):\n",
    "    return word not in stopwords and \\\n",
    "        word not in punctuation and \\\n",
    "        word not in emoji.UNICODE_EMOJI\n",
    "\n",
    "replacement = {\n",
    "    'è': 'e',\n",
    "    'é': 'e',\n",
    "    'ì': 'i',\n",
    "    \"'\": '',\n",
    "    \n",
    "}\n",
    "\n",
    "def editLine(line):\n",
    "    for key, val in replacement.items():\n",
    "        line = line.replace(key, val)\n",
    "    return line\n",
    "\n",
    "\n",
    "def generateCloud(filename):\n",
    "#     d = path.dirname(__file__) if \"__file__\" in locals() else getcwd()\n",
    "#     text = open(path.join(d, filename)).read()\n",
    "    wordcloud = WordCloud().generate(open(filename ,'r').read())\n",
    "    image = wordcloud.to_image()\n",
    "    image.show()"
   ]
  },
  {
   "cell_type": "code",
   "execution_count": 9,
   "metadata": {},
   "outputs": [],
   "source": [
    "messages = open('polished', 'r')\n",
    "counter = Counter()\n",
    "        \n",
    "while True:\n",
    "    line = messages.readline()\n",
    "    if line == '':\n",
    "        break\n",
    "    line = line.lower()\n",
    "    counter.update(filter(isMeaningfulWord, (editLine(line)).split()))"
   ]
  },
  {
   "cell_type": "code",
   "execution_count": 10,
   "metadata": {},
   "outputs": [],
   "source": [
    "output = open('output', 'w')\n",
    "for item in counter.most_common(100):\n",
    "#     print('writing', item[0], item[1], 'times')\n",
    "    for i in range(0, item[1]):\n",
    "        output.write(item[0] + '\\n')\n",
    "output.close()\n",
    "generateCloud('output')"
   ]
  },
  {
   "cell_type": "code",
   "execution_count": 11,
   "metadata": {},
   "outputs": [
    {
     "name": "stdout",
     "output_type": "stream",
     "text": [
      "1082 so\n",
      "892 ok\n",
      "817 vuoi\n",
      "782 posso\n",
      "750 amore\n",
      "740 cose\n",
      "710 ❤️\n",
      "680 voglio\n",
      "540 sera\n",
      "530 puoi\n",
      "529 andare\n",
      "520 tesoro\n",
      "486 piace\n",
      "450 vedere\n",
      "441 stare\n",
      "438 2\n",
      "429 si,\n",
      "414 foto\n",
      "397 dani\n",
      "390 ahahah\n",
      "387 ciao\n",
      "385 sai\n",
      "383 devi\n",
      "374 notte\n",
      "363 vado\n",
      "362 voglia\n",
      "350 tipo\n",
      "347 beh\n",
      "342 😂😂😂\n",
      "337 letto\n",
      "334 sacco\n",
      "330 prendere\n",
      "327 dici\n",
      "318 scusa\n",
      "316 credo\n",
      "310 lho\n",
      "298 vorrei\n",
      "296 almeno\n",
      "291 preso\n",
      "291 vedo\n",
      "286 gioco\n",
      "281 volevo\n",
      "280 vabbe\n",
      "276 amo\n",
      "265 boh\n",
      "260 uhmmm\n",
      "252 daniele\n",
      "249 vero\n",
      "247 si...\n",
      "246 no,\n",
      "245 sento\n",
      "245 capito\n",
      "241 bello\n",
      "240 ragazzo\n",
      "238 3\n",
      "237 parlare\n",
      "236 settimana\n",
      "235 penso\n",
      "233 dico\n",
      "231 mattina\n",
      "226 sa\n",
      "226 so...\n",
      "225 felice\n",
      "222 venire\n",
      "221 no?\n",
      "215 bella\n",
      "215 mese\n",
      "214 chiesto\n",
      "213 minuti\n",
      "210 messo\n",
      "210 ok,\n",
      "209 vedi\n",
      "207 guarda\n",
      "207 macchina\n",
      "204 cazzo\n",
      "203 problema\n",
      "202 pc\n",
      "200 giusto\n",
      "200 dispiace\n",
      "196 riesco\n",
      "196 veramente\n",
      "194 meli\n",
      "191 capisco\n",
      "190 eh?\n",
      "190 pare\n",
      "188 vediamo\n",
      "186 ragazza\n",
      "185 tardi\n",
      "183 dovrei\n",
      "183 giro\n",
      "182 mamma\n",
      "181 buona\n",
      "175 torno\n",
      "174 😂😂\n",
      "172 farlo\n",
      "171 spero\n",
      "171 euro\n",
      "170 madre\n",
      "170 trovare\n",
      "169 capire\n"
     ]
    }
   ],
   "source": [
    "# print(counter.most_common(100))\n",
    "for item in counter.most_common(100):\n",
    "    print(item[1], item[0])"
   ]
  },
  {
   "cell_type": "code",
   "execution_count": 7,
   "metadata": {},
   "outputs": [
    {
     "name": "stdout",
     "output_type": "stream",
     "text": [
      "meli\n",
      "dani\n"
     ]
    }
   ],
   "source": [
    "def checkPresence(x):\n",
    "    if x == 'a' or x == 'ci':\n",
    "        return False\n",
    "    return True\n",
    "\n",
    "l = ['a', 'ci', 'meli', 'dani']\n",
    "for i in filter(checkPresence, l):\n",
    "    print(i)\n"
   ]
  },
  {
   "cell_type": "code",
   "execution_count": null,
   "metadata": {},
   "outputs": [],
   "source": []
  }
 ],
 "metadata": {
  "kernelspec": {
   "display_name": "Python 3",
   "language": "python",
   "name": "python3"
  },
  "language_info": {
   "codemirror_mode": {
    "name": "ipython",
    "version": 3
   },
   "file_extension": ".py",
   "mimetype": "text/x-python",
   "name": "python",
   "nbconvert_exporter": "python",
   "pygments_lexer": "ipython3",
   "version": "3.6.7"
  }
 },
 "nbformat": 4,
 "nbformat_minor": 2
}
