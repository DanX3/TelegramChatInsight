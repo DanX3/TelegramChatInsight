{
 "cells": [
  {
   "cell_type": "code",
   "execution_count": null,
   "metadata": {},
   "outputs": [],
   "source": [
    "import json\n",
    "from collections import Counter\n",
    "import emoji\n",
    "from wordcloud import WordCloud\n",
    "from os import path, getcwd\n",
    "from string import punctuation\n",
    "import matplotlib.pyplot as plt\n",
    "import multidict "
   ]
  },
  {
   "cell_type": "code",
   "execution_count": null,
   "metadata": {},
   "outputs": [],
   "source": [
    "stopwords = frozenset(json.loads(open('stopwords-it.json').read()))\n",
    "punctuation_trans = str.maketrans('', '', punctuation)\n",
    "accent_trans = str.maketrans('àáèéìóòú', 'aaeeioou')\n",
    "unicode_chars = str(list(emoji.UNICODE_EMOJI.keys())).replace(',','').replace(\"'\", '')[1:-1]\n",
    "emoji_trans = str.maketrans('', '', unicode_chars)"
   ]
  },
  {
   "cell_type": "code",
   "execution_count": null,
   "metadata": {},
   "outputs": [],
   "source": [
    "def isMeaningfulWord(word):\n",
    "    return (word not in stopwords) and \\\n",
    "        (word not in punctuation) and \\\n",
    "        (len(word) > 2)\n",
    "\n",
    "\n",
    "def editLine(line):\n",
    "    return line.translate(punctuation_trans).translate(accent_trans)#.translate(emoji_trans)\n",
    "\n",
    "\n",
    "def generateCloud(freq_dict):\n",
    "    wordcloud = WordCloud(background_color=\"white\", width=1920, height=1080).generate_from_frequencies(freq_dict)\n",
    "    plt.imshow(wordcloud, interpolation=\"bilinear\")\n",
    "    plt.axis(\"off\")\n",
    "    plt.savefig('wordcloud.png', dpi=300)\n",
    "    plt.show()\n",
    "    "
   ]
  },
  {
   "cell_type": "code",
   "execution_count": null,
   "metadata": {},
   "outputs": [],
   "source": [
    "messages = open('polished', 'r')\n",
    "counter = Counter()\n",
    "        \n",
    "while True:\n",
    "    line = messages.readline()\n",
    "    if line == '':\n",
    "        break\n",
    "    line = line.lower()\n",
    "    counter.update(filter(isMeaningfulWord, (editLine(line)).split()))\n",
    "for key, val in counter.most_common(150):\n",
    "    freq_dict[key] = val\n",
    "print(freq_dict)\n",
    "generateCloud(freq_dict)"
   ]
  }
 ],
 "metadata": {
  "kernelspec": {
   "display_name": "Python 3",
   "language": "python",
   "name": "python3"
  },
  "language_info": {
   "codemirror_mode": {
    "name": "ipython",
    "version": 3
   },
   "file_extension": ".py",
   "mimetype": "text/x-python",
   "name": "python",
   "nbconvert_exporter": "python",
   "pygments_lexer": "ipython3",
   "version": "3.6.7"
  }
 },
 "nbformat": 4,
 "nbformat_minor": 2
}
