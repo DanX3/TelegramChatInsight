{
 "cells": [
  {
   "cell_type": "code",
   "execution_count": null,
   "metadata": {},
   "outputs": [],
   "source": [
    "import json\n",
    "from collections import Counter\n",
    "import emoji\n",
    "from wordcloud import WordCloud\n",
    "from os import path, getcwd"
   ]
  },
  {
   "cell_type": "code",
   "execution_count": null,
   "metadata": {},
   "outputs": [],
   "source": [
    "stopwords = frozenset(json.loads(open('stopwords-it.json').read()))\n",
    "punctuation = frozenset(['.', ',', '...', '?', '!', ':', '\"', \"'\"])\n",
    "print(len(stopwords))"
   ]
  },
  {
   "cell_type": "code",
   "execution_count": null,
   "metadata": {},
   "outputs": [],
   "source": [
    "def isMeaningfulWord(word):\n",
    "    return word not in stopwords and \\\n",
    "        word not in punctuation and \\\n",
    "        word not in emoji.UNICODE_EMOJI\n",
    "\n",
    "replacement = {\n",
    "    'è': 'e',\n",
    "    'é': 'e',\n",
    "    'ì': 'i',\n",
    "    \"'\": '',\n",
    "    \n",
    "}\n",
    "\n",
    "def editLine(line):\n",
    "    for key, val in replacement.items():\n",
    "        line = line.replace(key, val)\n",
    "    return line\n",
    "\n",
    "\n",
    "def generateCloud(filename):\n",
    "#     d = path.dirname(__file__) if \"__file__\" in locals() else getcwd()\n",
    "#     text = open(path.join(d, filename)).read()\n",
    "    wordcloud = WordCloud().generate(open(filename ,'r').read())\n",
    "    image = wordcloud.to_image()\n",
    "    image.show()"
   ]
  },
  {
   "cell_type": "code",
   "execution_count": null,
   "metadata": {},
   "outputs": [],
   "source": [
    "messages = open('polished', 'r')\n",
    "counter = Counter()\n",
    "        \n",
    "while True:\n",
    "    line = messages.readline()\n",
    "    if line == '':\n",
    "        break\n",
    "    line = line.lower()\n",
    "    counter.update(filter(isMeaningfulWord, (editLine(line)).split()))"
   ]
  },
  {
   "cell_type": "code",
   "execution_count": null,
   "metadata": {},
   "outputs": [],
   "source": [
    "output = open('output', 'w')\n",
    "for item in counter.most_common(100):\n",
    "#     print('writing', item[0], item[1], 'times')\n",
    "    for i in range(0, item[1]):\n",
    "        output.write(item[0] + '\\n')\n",
    "output.close()\n",
    "generateCloud('output')"
   ]
  },
  {
   "cell_type": "code",
   "execution_count": null,
   "metadata": {},
   "outputs": [],
   "source": [
    "# print(counter.most_common(100))\n",
    "for item in counter.most_common(100):\n",
    "    print(item[1], item[0])"
   ]
  },
  {
   "cell_type": "code",
   "execution_count": null,
   "metadata": {},
   "outputs": [],
   "source": [
    "def checkPresence(x):\n",
    "    if x == 'a' or x == 'ci':\n",
    "        return False\n",
    "    return True\n",
    "\n",
    "l = ['a', 'ci', 'meli', 'dani']\n",
    "for i in filter(checkPresence, l):\n",
    "    print(i)\n"
   ]
  }
 ],
 "metadata": {
  "kernelspec": {
   "display_name": "Python 3",
   "language": "python",
   "name": "python3"
  },
  "language_info": {
   "codemirror_mode": {
    "name": "ipython",
    "version": 3
   },
   "file_extension": ".py",
   "mimetype": "text/x-python",
   "name": "python",
   "nbconvert_exporter": "python",
   "pygments_lexer": "ipython3",
   "version": "3.6.7"
  }
 },
 "nbformat": 4,
 "nbformat_minor": 2
}
